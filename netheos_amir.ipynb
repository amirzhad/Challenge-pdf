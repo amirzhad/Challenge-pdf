{
 "cells": [
  {
   "cell_type": "code",
   "execution_count": 1,
   "metadata": {},
   "outputs": [],
   "source": [
    "import os"
   ]
  },
  {
   "cell_type": "markdown",
   "metadata": {},
   "source": [
    "# Instruction\n",
    "\n",
    "The **objective** is to taking as argument the path to the pdf file to analyze, and displaying the offset in decimal on the standard output (-1 if there is no \"%%EOF\").\n",
    "\n",
    "**Run**:\n",
    "\n",
    "To run the code you can easily use Jupyter Notebook or simply run the script in command line by \"ipython netheos_amir.ipynb\" (you have to have installed **ipython**)\n",
    "\n",
    "**Solution**:\n",
    "* 1) Instead of reading the whole file, I read from the end of the file. I read until I reach the \"\\n\" or \"\\r\" to find the last line. This way is efficient, especially for large files.\n",
    "* 2) The *max_reading_bytes* defines the maximum number of character we will read from the end of the file. Each character can be from 1 to 4 bytes and I assumed that it is 1 (no difference in complexity of the method). If we read more than 30 bytes then it means that the last line does not contain \"%%EOF\" and we have to terminate the searching. This is done by checking the variable *sum_of_read_bytes*.\n",
    "* 3) At the end, I will read the line (which is the last line) and then I check if it contains \"%%EOF\" or not.\n",
    "* 4) Using the size of the file and the number of characters we read from the end, we can easily compute the offset (using *size_of_file* and *sum_of_read_bytes*)."
   ]
  },
  {
   "cell_type": "code",
   "execution_count": 2,
   "metadata": {},
   "outputs": [
    {
     "name": "stdout",
     "output_type": "stream",
     "text": [
      "File Path: C:\\Users\\amirz\\PycharmProjects\\Netheos\\Data\\test_1.pdf\n"
     ]
    }
   ],
   "source": [
    "file_path = input(\"File Path: \")"
   ]
  },
  {
   "cell_type": "code",
   "execution_count": 3,
   "metadata": {},
   "outputs": [],
   "source": [
    "# size of the file (we use it to find the offset)\n",
    "size_of_file = os.path.getsize(file_path)\n",
    "\n",
    "# maximum number of bytes to be read\n",
    "max_reading_bytes = 30\n"
   ]
  },
  {
   "cell_type": "code",
   "execution_count": 4,
   "metadata": {},
   "outputs": [],
   "source": [
    "def find_offset(path):\n",
    "    with open(path, 'rb') as f:\n",
    "        try:  # catch OSError in case of a one line file \n",
    "            f.seek(-2, os.SEEK_END)\n",
    "\n",
    "            sum_of_read_bytes = 0\n",
    "            read_char = f.read(1)\n",
    "            while read_char != b'\\n' and read_char != b'\\r' and sum_of_read_bytes <= max_reading_bytes:\n",
    "                f.seek(-2, os.SEEK_CUR)\n",
    "                read_char = f.read(1)\n",
    "                sum_of_read_bytes += 1 # each character is 1 to 4 bytes. Let's assume it is 1 byte\n",
    "\n",
    "        except OSError:\n",
    "            f.seek(0)\n",
    "\n",
    "        last_line = f.readline().decode()\n",
    "        \n",
    "    if sum_of_read_bytes >= max_reading_bytes or \"%%EOF\" not in last_line:\n",
    "        offset = -1\n",
    "    else:\n",
    "        offset = size_of_file - (sum_of_read_bytes + 1)\n",
    "    \n",
    "    return offset"
   ]
  },
  {
   "cell_type": "code",
   "execution_count": 5,
   "metadata": {},
   "outputs": [
    {
     "name": "stdout",
     "output_type": "stream",
     "text": [
      "offset:  4568\n"
     ]
    }
   ],
   "source": [
    "print(\"offset: \", find_offset(file_path))"
   ]
  },
  {
   "cell_type": "code",
   "execution_count": null,
   "metadata": {},
   "outputs": [],
   "source": []
  }
 ],
 "metadata": {
  "kernelspec": {
   "display_name": "Python 3",
   "language": "python",
   "name": "python3"
  },
  "language_info": {
   "codemirror_mode": {
    "name": "ipython",
    "version": 3
   },
   "file_extension": ".py",
   "mimetype": "text/x-python",
   "name": "python",
   "nbconvert_exporter": "python",
   "pygments_lexer": "ipython3",
   "version": "3.7.6"
  }
 },
 "nbformat": 4,
 "nbformat_minor": 4
}
